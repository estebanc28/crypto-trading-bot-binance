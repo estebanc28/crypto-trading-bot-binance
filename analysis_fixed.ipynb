{
 "cells": [
  {
   "cell_type": "markdown",
   "id": "0db36508",
   "metadata": {},
   "source": [
    "\n",
    "# 📊 Trading Bot Performance Analysis\n",
    "\n",
    "This notebook analyzes the performance of the crypto trading bot using historical data stored in `trades_log.xlsx`.  \n",
    "It includes key metrics such as win rate, average profit/loss, standard deviation, Sharpe ratio, and a histogram of returns.\n",
    "\n",
    "> **Note:** The data used here is sample-based. Replace with your actual bot output for real insights.\n"
   ]
  },
  {
   "cell_type": "code",
   "execution_count": null,
   "id": "36b18d13",
   "metadata": {},
   "outputs": [],
   "source": [
    "\n",
    "import pandas as pd\n",
    "import numpy as np\n",
    "import matplotlib.pyplot as plt\n",
    "import seaborn as sns\n",
    "from scipy.stats import mode\n",
    "\n",
    "# Load the trade log\n",
    "df = pd.read_excel(\"trades_log.xlsx\")\n",
    "\n",
    "# Calculate PnL for each trade\n",
    "df['PnL'] = (df['Exit Price'] - df['Entry Price']) * df['Quantity']\n",
    "df.head()\n"
   ]
  },
  {
   "cell_type": "code",
   "execution_count": null,
   "id": "996c023a",
   "metadata": {},
   "outputs": [],
   "source": [
    "\n",
    "total_trades = len(df)\n",
    "profitable_trades = df[df['PnL'] > 0]\n",
    "loss_trades = df[df['PnL'] < 0]\n",
    "profitable_ratio = len(profitable_trades) / total_trades\n",
    "mean_pnl = df['PnL'].mean()\n",
    "median_pnl = df['PnL'].median()\n",
    "\n",
    "# Safe calculation of mode\n",
    "try:\n",
    "    mode_result = mode(df['PnL'], keepdims=True)\n",
    "    mode_pnl = mode_result.mode[0]\n",
    "except Exception:\n",
    "    mode_pnl = np.nan\n",
    "\n",
    "std_pnl = df['PnL'].std()\n",
    "sharpe_ratio = mean_pnl / std_pnl if std_pnl != 0 else np.nan\n",
    "\n",
    "loss_prob = len(loss_trades) / total_trades\n",
    "loss_15_prob = len(df[df['PnL'] < -0.15]) / total_trades\n",
    "loss_30_prob = len(df[df['PnL'] < -0.30]) / total_trades\n",
    "\n",
    "summary = {\n",
    "    \"Total Trades\": total_trades,\n",
    "    \"Profitable Trades (%)\": round(profitable_ratio * 100, 2),\n",
    "    \"Mean PnL\": round(mean_pnl, 4),\n",
    "    \"Median PnL\": round(median_pnl, 4),\n",
    "    \"Mode PnL\": round(mode_pnl, 4) if not np.isnan(mode_pnl) else None,\n",
    "    \"Std Dev PnL\": round(std_pnl, 4),\n",
    "    \"Sharpe Ratio\": round(sharpe_ratio, 4),\n",
    "    \"Loss Probability (%)\": round(loss_prob * 100, 2),\n",
    "    \"Loss > 15% Probability (%)\": round(loss_15_prob * 100, 2),\n",
    "    \"Loss > 30% Probability (%)\": round(loss_30_prob * 100, 2)\n",
    "}\n",
    "\n",
    "summary\n"
   ]
  },
  {
   "cell_type": "code",
   "execution_count": null,
   "id": "20287936",
   "metadata": {},
   "outputs": [],
   "source": [
    "\n",
    "plt.figure(figsize=(10, 6))\n",
    "sns.histplot(df['PnL'], bins=10, kde=True)\n",
    "plt.title(\"Distribution of Profit and Loss (PnL)\")\n",
    "plt.xlabel(\"PnL ($)\")\n",
    "plt.ylabel(\"Frequency\")\n",
    "plt.grid(True)\n",
    "plt.tight_layout()\n",
    "plt.show()\n"
   ]
  },
  {
   "cell_type": "markdown",
   "id": "105b7e08",
   "metadata": {},
   "source": [
    "\n",
    "## 📝 Notes\n",
    "\n",
    "- A negative Sharpe ratio and high loss probability indicate poor performance under the current strategy.\n",
    "- This highlights the importance of backtesting, optimization, and possible parameter tuning.\n",
    "- You are encouraged to iterate on the strategy using this notebook to monitor improvements over time.\n"
   ]
  }
 ],
 "metadata": {},
 "nbformat": 4,
 "nbformat_minor": 5
}
